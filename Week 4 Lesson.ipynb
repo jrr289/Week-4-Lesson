{
 "cells": [
  {
   "cell_type": "markdown",
   "id": "d9f1af1b",
   "metadata": {},
   "source": [
    "# Week 4"
   ]
  },
  {
   "cell_type": "markdown",
   "id": "192a3620-9542-48e9-9570-1d02c14f67c8",
   "metadata": {},
   "source": [
    "## User-defined functions"
   ]
  },
  {
   "cell_type": "markdown",
   "id": "0ae1a5db-76f4-4a1f-913f-23acdbafcb15",
   "metadata": {},
   "source": [
    "While Python has a large number of built-in functions, and libraries contain many functions, there are occassions when we will need to create our own functions. This is a user-defined function.\n",
    "\n",
    "A function is like a small program inside your bigger program. It lets you organize your code, so you don’t have to repeat yourself.\n",
    "\n",
    "With functions, your code is shorter, it’s easier to read and understand, you can re-use code instead of copying and pasting, and you can break big problems into smaller ones."
   ]
  },
  {
   "cell_type": "markdown",
   "id": "bbb8d21c-2826-4264-a4f3-5f89e0eb0a76",
   "metadata": {},
   "source": [
    "### How to use a function\n",
    "\n",
    "There are two steps:\n",
    "\n",
    "1. Define the function (tell Python what it should do)\n",
    "2. Call the function (actually use it)"
   ]
  },
  {
   "cell_type": "markdown",
   "id": "ac2548b6-ed5f-483a-b6ea-c50321e12368",
   "metadata": {},
   "source": [
    "```python\n",
    "def say_hello(): # the def keyword is used to define a function. say_hello is the name of the function in this example\n",
    "    print(\"Hello, student!\") # the purpose of this function is to print a short message\n",
    "\n",
    "say_hello()  # This runs the function\n",
    "```"
   ]
  },
  {
   "cell_type": "code",
   "execution_count": 1,
   "id": "fa384556-9974-418b-a79e-2bd695038e01",
   "metadata": {
    "tags": []
   },
   "outputs": [],
   "source": [
    "# Create a user-defined function called greeting that accepts a name as an argument and then prints a short message to the console that reads: \"Hello, name!\". name will be equal to what was input to the function\n",
    "def greeting(name):\n",
    "    print(f'Hello, {name}!')"
   ]
  },
  {
   "cell_type": "code",
   "execution_count": 2,
   "id": "5cc432bd-36cd-4d2a-91a2-5a51d5dd52f6",
   "metadata": {
    "tags": []
   },
   "outputs": [
    {
     "name": "stdout",
     "output_type": "stream",
     "text": [
      "Hello, John!\n"
     ]
    }
   ],
   "source": [
    "greeting('John')"
   ]
  },
  {
   "cell_type": "code",
   "execution_count": 3,
   "id": "8bea1808-b8a3-4d5c-8265-e305d38e053f",
   "metadata": {
    "tags": []
   },
   "outputs": [
    {
     "name": "stdout",
     "output_type": "stream",
     "text": [
      "Hello, Jane!\n"
     ]
    }
   ],
   "source": [
    "greeting('Jane')"
   ]
  },
  {
   "cell_type": "code",
   "execution_count": 4,
   "id": "df63d1ba-0165-4eb8-ac81-03bcf25b55ce",
   "metadata": {
    "tags": []
   },
   "outputs": [
    {
     "name": "stdout",
     "output_type": "stream",
     "text": [
      "32.0\n"
     ]
    }
   ],
   "source": [
    "# Create a function called CtoF that accepts a temperature in celsius as an argument and then converts that temperature to Fahrenheit\n",
    "def CtoF(temperature):\n",
    "    print((temperature * 9/5) + 32)\n",
    "\n",
    "CtoF(0)"
   ]
  },
  {
   "cell_type": "code",
   "execution_count": 5,
   "id": "a1479715-1bda-447a-9cb7-660b973dec16",
   "metadata": {
    "tags": []
   },
   "outputs": [
    {
     "name": "stdout",
     "output_type": "stream",
     "text": [
      "32.0\n",
      "122.0\n"
     ]
    },
    {
     "ename": "TypeError",
     "evalue": "unsupported operand type(s) for +: 'NoneType' and 'NoneType'",
     "output_type": "error",
     "traceback": [
      "\u001b[1;31m---------------------------------------------------------------------------\u001b[0m",
      "\u001b[1;31mTypeError\u001b[0m                                 Traceback (most recent call last)",
      "Cell \u001b[1;32mIn[5], line 2\u001b[0m\n\u001b[0;32m      1\u001b[0m \u001b[38;5;66;03m# Let's use our function to add the sum of 0°C (converted to °F) and 50°C (converted to °F)\u001b[39;00m\n\u001b[1;32m----> 2\u001b[0m \u001b[38;5;28mprint\u001b[39m(CtoF(\u001b[38;5;241m0\u001b[39m) \u001b[38;5;241m+\u001b[39m CtoF(\u001b[38;5;241m50\u001b[39m))\n",
      "\u001b[1;31mTypeError\u001b[0m: unsupported operand type(s) for +: 'NoneType' and 'NoneType'"
     ]
    }
   ],
   "source": [
    "# Let's use our function to add the sum of 0°C (converted to °F) and 50°C (converted to °F)\n",
    "print(CtoF(0) + CtoF(50))\n",
    "# What happens when we run this cell?"
   ]
  },
  {
   "cell_type": "code",
   "execution_count": 6,
   "id": "752d9c7a-2c93-4699-aff0-ad7b3a1dab91",
   "metadata": {
    "tags": []
   },
   "outputs": [
    {
     "name": "stdout",
     "output_type": "stream",
     "text": [
      "154.0\n"
     ]
    }
   ],
   "source": [
    "def CtoF(temperature):\n",
    "    return (temperature * 9/5) + 32\n",
    "\n",
    "print(CtoF(0) + CtoF(50))"
   ]
  },
  {
   "cell_type": "markdown",
   "id": "7bc785c2-a89d-4db1-a51e-5b62552ec538",
   "metadata": {},
   "source": [
    "### print() vs. return in functions\n",
    "\n",
    "| Feature            | `print()`                     | `return`                             |\n",
    "| ------------------ | ----------------------------- | ------------------------------------ |\n",
    "| **What it does**   | Shows something on the screen | Sends a value *back* from a function |\n",
    "| **Who sees it?**   | The **user** sees it          | The **program** uses it internally   |\n",
    "| **Use it for...**  | Showing results, debugging    | Saving or reusing values             |\n",
    "| **Where it works** | Anywhere in your code         | Only inside functions                |"
   ]
  },
  {
   "cell_type": "markdown",
   "id": "59244961",
   "metadata": {},
   "source": [
    "## List comprehension\n",
    "\n",
    "A list comprehension is a shortcut for building a new list from an existing list.\n",
    "\n",
    "### Basic structure of list comprehension\n",
    "```python\n",
    "[expression for item in list if condition]\n",
    "```\n",
    "Where:\n",
    "* expression → What to do with each item\n",
    "\n",
    "* item → The current value from the list\n",
    "\n",
    "* list → The list you're looping through\n",
    "\n",
    "* condition (optional) → A rule to filter items"
   ]
  },
  {
   "cell_type": "markdown",
   "id": "9b90229f-dc74-461d-9735-cb3a3e8277e2",
   "metadata": {},
   "source": [
    "Note: When working with large datasets, using a list comprehension is typically faster than using a for loop."
   ]
  },
  {
   "cell_type": "code",
   "execution_count": 8,
   "id": "07a86871-babe-4560-9a11-8eedfb33c3e3",
   "metadata": {
    "tags": []
   },
   "outputs": [
    {
     "name": "stdout",
     "output_type": "stream",
     "text": [
      "[0, 16, 625]\n",
      "[0, 4, 25]\n"
     ]
    }
   ],
   "source": [
    "# Suppose we want to square each number in a list of numbers and save the result into a new list using a for loop\n",
    "numbers = [0, 4, 25] # A list of integers\n",
    "squared_numbers = [] # Create a empty list where we will store our result\n",
    "\n",
    "for number in numbers: # for every item in the list called numbers\n",
    "    squared_numbers.append(number ** 2) # square the item and store it to the empty list called squared_numbers\n",
    "    \n",
    "print(squared_numbers)\n",
    "print(numbers)"
   ]
  },
  {
   "cell_type": "code",
   "execution_count": 9,
   "id": "e9a88776-4c48-451d-9d6d-bacf2afb2fbd",
   "metadata": {
    "tags": []
   },
   "outputs": [
    {
     "name": "stdout",
     "output_type": "stream",
     "text": [
      "[0, 100, 256]\n"
     ]
    }
   ],
   "source": [
    "# Let's do the same operation, but this time use list comprehension\n",
    "numbers = [0, 10, 16]\n",
    "squared_numbers = [number ** 2 for number in numbers]\n",
    "print(squared_numbers)"
   ]
  },
  {
   "cell_type": "markdown",
   "id": "81f75274-1d5d-41d7-a11c-096d43673113",
   "metadata": {},
   "source": [
    "### List comprehensions reference table\n",
    "| Syntax                            | Description     | Example                           |\n",
    "| --------------------------------- | --------------- | --------------------------------- |\n",
    "| `[x for x in list]`               | Copy a list     | `[x for x in nums]`               |\n",
    "| `[x * 2 for x in list]`           | Transform items | `[x * 2 for x in nums]`           |\n",
    "| `[x for x in list if x % 2 == 0]` | Filter items    | `[x for x in nums if x % 2 == 0]` |\n"
   ]
  },
  {
   "cell_type": "code",
   "execution_count": 10,
   "id": "8d8f90fa-420d-4e26-b3c5-288e3c0d9b94",
   "metadata": {
    "tags": []
   },
   "outputs": [
    {
     "name": "stdout",
     "output_type": "stream",
     "text": [
      "[0, 2, 4]\n"
     ]
    }
   ],
   "source": [
    "# Print only the even numbers from the list below using a list comprehension\n",
    "numbers = [0, 1, 2, 3, 4, 5]\n",
    "print([number for number in numbers if number % 2 == 0])"
   ]
  },
  {
   "cell_type": "markdown",
   "id": "90cae77d",
   "metadata": {},
   "source": [
    "## Dictionaries"
   ]
  },
  {
   "cell_type": "markdown",
   "id": "08c1c53b",
   "metadata": {},
   "source": [
    "A dictionary is a data structure like a list, but instead of using numbers as references to the data, you can use strings. To create a dictionary in Python, you enclose the dictionary values in curly braces {} instead of the square brackets used for lists.\n",
    "\n",
    "A dictionary is a special type of container in Python. It stores data using labels, not just positions like a list does. A dictionary stores information as key–value pairs.\n",
    "\n",
    "Just like a real dictionary:\n",
    "\n",
    "* You look up a word (key)\n",
    "\n",
    "* It gives you a definition (value)\n",
    "\n"
   ]
  },
  {
   "cell_type": "markdown",
   "id": "092a49cc-c0f0-4710-ac2d-e2c402b552fc",
   "metadata": {},
   "source": [
    "### Python dictionary basics reference table\n",
    "\n",
    "| Symbol / Term | Purpose                     | Example                      |\n",
    "| ------------- | --------------------------- | ---------------------------- |\n",
    "| `{}`          | Create a dictionary         | `my_dict = {\"a\": 1, \"b\": 2}` |\n",
    "| `:`           | Separate keys and values    | `\"name\": \"Alice\"`            |\n",
    "| `[]`          | Access a value using a key  | `student[\"name\"]`            |\n",
    "| `.get()`      | Safer way to get a value    | `student.get(\"name\")`        |\n",
    "| `in`          | Check if a key exists       | `\"age\" in student`           |\n",
    "| `.keys()`     | List of all keys            | `student.keys()`             |\n",
    "| `.values()`   | List of all values          | `student.values()`           |\n",
    "| `.items()`    | List of all key-value pairs | `student.items()`            |\n"
   ]
  },
  {
   "cell_type": "code",
   "execution_count": 11,
   "id": "0d526b3a-a096-4b79-b929-d65fa0aa0a26",
   "metadata": {
    "tags": []
   },
   "outputs": [],
   "source": [
    "# Let's create a simple dictionary\n",
    "person = {'name':'Bob', 'age':20}"
   ]
  },
  {
   "cell_type": "code",
   "execution_count": 12,
   "id": "d0b61330-8d40-4585-9c44-2a9980a13444",
   "metadata": {
    "tags": []
   },
   "outputs": [
    {
     "name": "stdout",
     "output_type": "stream",
     "text": [
      "Bob\n"
     ]
    }
   ],
   "source": [
    "# Print the name of the person\n",
    "print(person['name'])"
   ]
  },
  {
   "cell_type": "code",
   "execution_count": 13,
   "id": "16bb4748-b822-4a8b-b311-5c7f9e56461a",
   "metadata": {
    "tags": []
   },
   "outputs": [
    {
     "name": "stdout",
     "output_type": "stream",
     "text": [
      "25\n"
     ]
    }
   ],
   "source": [
    "# Change Bob's age to 25\n",
    "person['age'] = 25\n",
    "print(person['age'])"
   ]
  },
  {
   "cell_type": "markdown",
   "id": "1c12675d",
   "metadata": {},
   "source": [
    "Lists can be embedded in the values to attach several values to one key. Let's look at an example:"
   ]
  },
  {
   "cell_type": "code",
   "execution_count": 15,
   "id": "ecc58bba",
   "metadata": {},
   "outputs": [
    {
     "name": "stdout",
     "output_type": "stream",
     "text": [
      "backpack\n"
     ]
    }
   ],
   "source": [
    "supplies = {'item':['backpack', 'laptop', 'textbook'], 'price':[65, 1299, 75]}\n",
    "# print the first item stored in the supplies dictionary\n",
    "print(supplies['item'][0])"
   ]
  },
  {
   "cell_type": "markdown",
   "id": "d2d9134e",
   "metadata": {},
   "source": [
    "We can easily convert a dictionary to a Pandas dataframe!"
   ]
  },
  {
   "cell_type": "code",
   "execution_count": 16,
   "id": "e310d1b1",
   "metadata": {},
   "outputs": [
    {
     "data": {
      "text/html": [
       "<div>\n",
       "<style scoped>\n",
       "    .dataframe tbody tr th:only-of-type {\n",
       "        vertical-align: middle;\n",
       "    }\n",
       "\n",
       "    .dataframe tbody tr th {\n",
       "        vertical-align: top;\n",
       "    }\n",
       "\n",
       "    .dataframe thead th {\n",
       "        text-align: right;\n",
       "    }\n",
       "</style>\n",
       "<table border=\"1\" class=\"dataframe\">\n",
       "  <thead>\n",
       "    <tr style=\"text-align: right;\">\n",
       "      <th></th>\n",
       "      <th>item</th>\n",
       "      <th>price</th>\n",
       "    </tr>\n",
       "  </thead>\n",
       "  <tbody>\n",
       "    <tr>\n",
       "      <th>0</th>\n",
       "      <td>backpack</td>\n",
       "      <td>65</td>\n",
       "    </tr>\n",
       "    <tr>\n",
       "      <th>1</th>\n",
       "      <td>laptop</td>\n",
       "      <td>1299</td>\n",
       "    </tr>\n",
       "    <tr>\n",
       "      <th>2</th>\n",
       "      <td>textbook</td>\n",
       "      <td>75</td>\n",
       "    </tr>\n",
       "  </tbody>\n",
       "</table>\n",
       "</div>"
      ],
      "text/plain": [
       "       item  price\n",
       "0  backpack     65\n",
       "1    laptop   1299\n",
       "2  textbook     75"
      ]
     },
     "execution_count": 16,
     "metadata": {},
     "output_type": "execute_result"
    }
   ],
   "source": [
    "import pandas as pd\n",
    "\n",
    "pd.DataFrame(supplies)"
   ]
  },
  {
   "cell_type": "markdown",
   "id": "9de20962",
   "metadata": {},
   "source": [
    "# While loops\n",
    "\n",
    "A `while` loop is a type of loop that runs so long as a specified condition is true. This is opposed to a `for` loop that repeats a set number of times.\n",
    "\n",
    "Be careful not to create `while` loops that go on forever - if this happens, you will have to force stop your program.\n",
    "\n",
    "### `while` loop syntax reference table\n",
    "| Keyword / Symbol | Purpose                         | Example               |\n",
    "| ---------------- | ------------------------------- | --------------------- |\n",
    "| `while`          | Starts the loop                 | `while x < 5:`        |\n",
    "| `:`              | Starts the block of loop code   | `while something:`    |\n",
    "| `break`          | Stops the loop early (optional) | `if x == 5: break`    |\n",
    "| `continue`       | Skips to the next loop cycle    | `if x == 2: continue` |\n",
    "| `condition`      | Decides when to stop            | `while count < 3:`    |\n"
   ]
  },
  {
   "cell_type": "code",
   "execution_count": 17,
   "id": "89f9f066",
   "metadata": {},
   "outputs": [
    {
     "name": "stdout",
     "output_type": "stream",
     "text": [
      "I love this class!\n",
      "I love this class!\n",
      "I love this class!\n",
      "I love this class!\n",
      "I love this class!\n"
     ]
    }
   ],
   "source": [
    "# Example while loop\n",
    "counter = 0 # start off with a counter that is set to 0\n",
    "\n",
    "while counter < 5: # set up while loop to run so long as counter is less than 5\n",
    "    print(\"I love this class!\")\n",
    "    counter += 1 # increment counter each time"
   ]
  },
  {
   "cell_type": "code",
   "execution_count": 18,
   "id": "321f31e9",
   "metadata": {},
   "outputs": [
    {
     "name": "stdin",
     "output_type": "stream",
     "text": [
      "Enter a number. Type 'done' to quit. 2\n",
      "Enter a number. Type 'done' to quit. 4\n",
      "Enter a number. Type 'done' to quit. 16\n",
      "Enter a number. Type 'done' to quit. 31\n",
      "Enter a number. Type 'done' to quit. 49\n",
      "Enter a number. Type 'done' to quit. 77\n",
      "Enter a number. Type 'done' to quit. done\n"
     ]
    }
   ],
   "source": [
    "# Create a while loop that requests user input and keeps asking until the user types 'done'\n",
    "while True:\n",
    "    user_input = input('Enter a number. Type \\'done\\' to quit.')\n",
    "    if user_input == 'done':\n",
    "        break"
   ]
  },
  {
   "cell_type": "code",
   "execution_count": null,
   "id": "7b1b03d5-1f52-4f32-a331-d6df6adea383",
   "metadata": {},
   "outputs": [],
   "source": []
  }
 ],
 "metadata": {
  "kernelspec": {
   "display_name": "Python 3 (ipykernel)",
   "language": "python",
   "name": "python3"
  },
  "language_info": {
   "codemirror_mode": {
    "name": "ipython",
    "version": 3
   },
   "file_extension": ".py",
   "mimetype": "text/x-python",
   "name": "python",
   "nbconvert_exporter": "python",
   "pygments_lexer": "ipython3",
   "version": "3.11.5"
  }
 },
 "nbformat": 4,
 "nbformat_minor": 5
}
