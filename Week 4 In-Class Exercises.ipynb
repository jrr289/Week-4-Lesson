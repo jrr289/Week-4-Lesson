{
 "cells": [
  {
   "cell_type": "markdown",
   "id": "d9f1af1b",
   "metadata": {},
   "source": [
    "# Week 4 in-class exercises"
   ]
  },
  {
   "cell_type": "markdown",
   "id": "2a9b8df6-0dc4-4a97-8503-fd90ff8c94d0",
   "metadata": {},
   "source": [
    "## Exercise 1"
   ]
  },
  {
   "cell_type": "code",
   "execution_count": null,
   "id": "73a69c83-925b-440f-ba56-795ca464a70e",
   "metadata": {},
   "outputs": [],
   "source": [
    "# Create a list of the first letter of each of the words in this list\n",
    "fruits = [\"apple\", \"banana\", \"cherry\", \"orange\"]\n"
   ]
  },
  {
   "cell_type": "code",
   "execution_count": null,
   "id": "ecd8d9ea-e5d5-41d0-b1d6-e2f0bfaf6ba7",
   "metadata": {},
   "outputs": [],
   "source": [
    "# Create a list of words that are longer than 5 letters\n",
    "animals = [\"cat\", \"elephant\", \"dog\", \"giraffe\", \"penguin\", \"koala\"]\n"
   ]
  },
  {
   "cell_type": "markdown",
   "id": "0739861d-0c7d-44a6-976a-302af9ca2338",
   "metadata": {},
   "source": [
    "## Exercise 2\n",
    "\n",
    "### Plotting Earth-sun relationships\n",
    "\n",
    "In order to calculate the surface area covered by a given angle of incidence, we will use the formula:\n",
    "\n",
    "* 1 / sin(angle)\n",
    "\n",
    "Where angle is the angle of incidence in radians.\n",
    "\n",
    "We can calculate the percent intensity of insolation for a given angle of incidence with:\n",
    "\n",
    "* sing(angle) * 100\n",
    "\n",
    "Where angle is the angle of incidence in radians.\n",
    "\n",
    "To convert degrees to radians, we can use:\n",
    "\n",
    "* (degree * pi) / 180"
   ]
  },
  {
   "cell_type": "code",
   "execution_count": null,
   "id": "0a92343b",
   "metadata": {},
   "outputs": [],
   "source": [
    "# Import pandas and numpy libraries using standard Python convention\n"
   ]
  },
  {
   "cell_type": "code",
   "execution_count": null,
   "id": "1c9157a2",
   "metadata": {},
   "outputs": [],
   "source": []
  },
  {
   "cell_type": "code",
   "execution_count": null,
   "id": "7620e5f4",
   "metadata": {},
   "outputs": [],
   "source": [
    "# Create dataframe of results\n"
   ]
  },
  {
   "cell_type": "code",
   "execution_count": null,
   "id": "15c02aab",
   "metadata": {},
   "outputs": [],
   "source": [
    "# Create lineplot of results\n"
   ]
  },
  {
   "cell_type": "markdown",
   "id": "ceb935b5-f1cf-4f70-ab38-1a35a4c76efd",
   "metadata": {},
   "source": [
    "## Exercise 3\n",
    "\n",
    "### Plotting Steffan-Boltzmann Law"
   ]
  },
  {
   "cell_type": "markdown",
   "id": "30a4e4f1-635d-4caa-8db6-d666aaa13b77",
   "metadata": {},
   "source": [
    "E = σ T⁴\n",
    "\n",
    "Where:\n",
    "* E = energy emitted per square meter per second\n",
    "* T = temperature in Kelvin (K)\n",
    "* σ = the Stefan–Boltzmann constant ($5.670374 \\times 10^{-8}$)"
   ]
  },
  {
   "cell_type": "code",
   "execution_count": null,
   "id": "b1052318",
   "metadata": {},
   "outputs": [],
   "source": [
    "# Create a list of temperatures from 0 to 1000K at intervals of 100\n",
    "\n",
    "# Calculate energy emitted for the range of temperatures indicated above\n"
   ]
  },
  {
   "cell_type": "code",
   "execution_count": null,
   "id": "5443bcae",
   "metadata": {},
   "outputs": [],
   "source": [
    "# Save results from above to a pandas dataframe\n"
   ]
  },
  {
   "cell_type": "markdown",
   "id": "6f150992",
   "metadata": {},
   "source": [
    "### Plot graph of Steffan-Boltzmann law"
   ]
  },
  {
   "cell_type": "code",
   "execution_count": null,
   "id": "220182f0",
   "metadata": {},
   "outputs": [],
   "source": [
    "# Create a line plot of the results using seaborn\n"
   ]
  },
  {
   "cell_type": "code",
   "execution_count": null,
   "id": "16616d43-fb39-40c8-92ff-57069b9dfe9d",
   "metadata": {},
   "outputs": [],
   "source": [
    "# Print the dataframe to view the table of results\n"
   ]
  }
 ],
 "metadata": {
  "kernelspec": {
   "display_name": "anaconda-panel-2023.05-py310",
   "language": "python",
   "name": "conda-env-anaconda-panel-2023.05-py310-py"
  },
  "language_info": {
   "codemirror_mode": {
    "name": "ipython",
    "version": 3
   },
   "file_extension": ".py",
   "mimetype": "text/x-python",
   "name": "python",
   "nbconvert_exporter": "python",
   "pygments_lexer": "ipython3",
   "version": "3.11.5"
  }
 },
 "nbformat": 4,
 "nbformat_minor": 5
}
